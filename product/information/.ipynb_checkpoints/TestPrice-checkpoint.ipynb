{
 "cells": [
  {
   "cell_type": "code",
   "execution_count": 1,
   "metadata": {},
   "outputs": [
    {
     "name": "stderr",
     "output_type": "stream",
     "text": [
      "test_price (__main__.TestPrice) ... ERROR\n",
      "\n",
      "======================================================================\n",
      "ERROR: test_price (__main__.TestPrice)\n",
      "----------------------------------------------------------------------\n",
      "Traceback (most recent call last):\n",
      "  File \"<ipython-input-1-ed20876e4497>\", line 6, in test_price\n",
      "    self.assertEqual(pr(1,'BC'), 1.12)\n",
      "TypeError: 'module' object is not callable\n",
      "\n",
      "----------------------------------------------------------------------\n",
      "Ran 1 test in 0.001s\n",
      "\n",
      "FAILED (errors=1)\n"
     ]
    },
    {
     "data": {
      "text/plain": [
       "<unittest.main.TestProgram at 0x10b3b7470>"
      ]
     },
     "execution_count": 1,
     "metadata": {},
     "output_type": "execute_result"
    }
   ],
   "source": [
    "import unittest\n",
    "import price as pr\n",
    "\n",
    "class TestPrice(unittest.TestCase): # test class\n",
    "    def test_price(self): # test case \n",
    "        self.assertEqual(pr(1,'BC'), 1.12) \n",
    "        self.assertEqual(pr(1,'AB'), 1.05) \n",
    "        self.assertEqual(pr(1,'ON'), 1.13)\n",
    "        self.assertEqual(pr(1,'NB'), 1.15)\n",
    "        self.assertEqual(pr(1,'MB'), 1.13)\n",
    "\n",
    "    #def test_notprice(self): # test case \n",
    "        #self.assertNotEqual(pr(1,'BC'), 1.17) \n",
    "        #self.assertNotEqual(pr(1,'AB'), 1.08) \n",
    "        #self.assertNotEqual(pr(1,'ON'), 1.12)\n",
    "        #self.assertNotEqual(pr(1,'NB'), 1.14)\n",
    "        #self.assertNotEqual(pr(1,'MB'), 1.15)\n",
    "\n",
    "unittest.main(argv=[''], verbosity=2, exit=False)"
   ]
  },
  {
   "cell_type": "code",
   "execution_count": null,
   "metadata": {},
   "outputs": [],
   "source": []
  }
 ],
 "metadata": {
  "kernelspec": {
   "display_name": "Python 3",
   "language": "python",
   "name": "python3"
  },
  "language_info": {
   "codemirror_mode": {
    "name": "ipython",
    "version": 3
   },
   "file_extension": ".py",
   "mimetype": "text/x-python",
   "name": "python",
   "nbconvert_exporter": "python",
   "pygments_lexer": "ipython3",
   "version": "3.7.3"
  }
 },
 "nbformat": 4,
 "nbformat_minor": 2
}
