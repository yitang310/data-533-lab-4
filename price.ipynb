{
 "cells": [
  {
   "cell_type": "code",
   "execution_count": 11,
   "metadata": {},
   "outputs": [],
   "source": [
    "class ProvinceError(Exception):\n",
    "    pass\n",
    "\n",
    "def tax_price(p, str):\n",
    "    try:\n",
    "        pro = ['AB','BC','MB','NB','NL','NS','NT','NU','ON','PE','QC','SK','YT']\n",
    "        \n",
    "        if str not in pro:\n",
    "            raise ProvinceError()\n",
    "            \n",
    "        if str == 'AB':\n",
    "            return 1.05 * p\n",
    "        if str == 'BC':\n",
    "            return 1.12 * p\n",
    "        if str == 'MB':\n",
    "            return 1.13 * p\n",
    "        if str == 'NB':\n",
    "            return 1.15 * p\n",
    "        if str == 'NL':\n",
    "            return 1.15 * p\n",
    "        if str == 'NS':\n",
    "            return 1.15 * p\n",
    "        if str == 'NT':\n",
    "            return 1.05 * p\n",
    "        if str == 'NU':\n",
    "            return 1.05 * p\n",
    "        if str == 'ON':\n",
    "            return 1.13 * p\n",
    "        if str == 'PE':\n",
    "            return 1.15 * p\n",
    "        if str == 'QC':\n",
    "            return 1.14975 * p\n",
    "        if str == 'SK':\n",
    "            return 1.11 * p\n",
    "        if str == 'YT':\n",
    "            return 1.05 * p\n",
    "    \n",
    "    except TypeError:\n",
    "        print(\"Error: TypeError\")\n",
    "   \n",
    "    except ProvinceError:\n",
    "        print(\"Error input: please input correct number of provinces.\")"
   ]
  },
  {
   "cell_type": "code",
   "execution_count": 12,
   "metadata": {},
   "outputs": [
    {
     "name": "stdout",
     "output_type": "stream",
     "text": [
      "Error: TypeError\n"
     ]
    }
   ],
   "source": [
    "tax_price('q', 'AB')"
   ]
  },
  {
   "cell_type": "code",
   "execution_count": 13,
   "metadata": {},
   "outputs": [
    {
     "name": "stdout",
     "output_type": "stream",
     "text": [
      "Error input: please input correct number of provinces.\n"
     ]
    }
   ],
   "source": [
    "tax_price(1, 'BB')"
   ]
  }
 ],
 "metadata": {
  "kernelspec": {
   "display_name": "Python 3",
   "language": "python",
   "name": "python3"
  },
  "language_info": {
   "codemirror_mode": {
    "name": "ipython",
    "version": 3
   },
   "file_extension": ".py",
   "mimetype": "text/x-python",
   "name": "python",
   "nbconvert_exporter": "python",
   "pygments_lexer": "ipython3",
   "version": "3.7.3"
  }
 },
 "nbformat": 4,
 "nbformat_minor": 2
}
