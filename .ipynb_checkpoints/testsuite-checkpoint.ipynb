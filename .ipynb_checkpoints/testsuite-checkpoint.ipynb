{
 "cells": [
  {
   "cell_type": "code",
   "execution_count": 1,
   "metadata": {},
   "outputs": [
    {
     "name": "stderr",
     "output_type": "stream",
     "text": [
      "........"
     ]
    },
    {
     "name": "stdout",
     "output_type": "stream",
     "text": [
      "setUpClass\n",
      "setUp\n",
      "Company name: L'Oréal Found year: 1909 Head quarter: Clichy, France \n",
      "Brand name: Lancôme Found year: 1935 Brand Country: France Belong Year: 1964 \n",
      "tearDown\n",
      "setUp\n",
      "Company name: L'Oréal Found year: 1909 Head quarter: Clichy, France \n",
      "tearDown\n",
      "tearDownClass\n",
      "setUpClass\n",
      "setUp\n",
      "tearDown\n",
      "setUp\n",
      "tearDown\n",
      "tearDownClass\n",
      "setUpClass\n",
      "setUp\n",
      "tearDown\n",
      "setUp\n",
      "tearDown\n",
      "tearDownClass\n",
      "setUpClass\n",
      "setUp\n",
      "main ingredients: water\n",
      "expiration date: 2020-08-08\n",
      "date of manufacture: 2019-08-08\n",
      "main ingredients: alcohol\n",
      "expiration date: 2020-02-02\n",
      "date of manufacture: 2019-02-02\n",
      "main ingredients: beeswax\n",
      "expiration date: 2020-09-09\n",
      "date of manufacture: 2019-09-09\n",
      "main ingredients: olive oil\n",
      "expiration date: 2020-07-07\n",
      "date of manufacture: 2019-07-07\n",
      "main ingredients: cocoa butter\n",
      "expiration date: 2020-03-03\n",
      "date of manufacture: 2019-03-03\n",
      "tearDown\n",
      "setUp\n",
      "main ingredients: water\n",
      "expiration date: 2020-08-08\n",
      "date of manufacture: 2019-08-08\n",
      "main ingredients: alcohol\n",
      "expiration date: 2020-02-02\n",
      "date of manufacture: 2019-02-02\n",
      "main ingredients: beeswax\n",
      "expiration date: 2020-09-09\n",
      "date of manufacture: 2019-09-09\n",
      "main ingredients: olive oil\n",
      "expiration date: 2020-07-07\n",
      "date of manufacture: 2019-07-07\n",
      "main ingredients: cocoa butter\n",
      "expiration date: 2020-03-03\n",
      "date of manufacture: 2019-03-03\n",
      "tearDown\n",
      "tearDownClass\n",
      "<unittest.runner.TextTestResult run=8 errors=0 failures=0>\n"
     ]
    },
    {
     "name": "stderr",
     "output_type": "stream",
     "text": [
      "\n",
      "----------------------------------------------------------------------\n",
      "Ran 8 tests in 0.013s\n",
      "\n",
      "OK\n"
     ]
    }
   ],
   "source": [
    "import unittest\n",
    "from TestCompany1 import TestCompany1\n",
    "from TestCompany2 import TestCompany2\n",
    "from TestPrice import TestPrice\n",
    "from TestProperty import TestProperty\n",
    "\n",
    "def my_suite():\n",
    "    suite = unittest.TestSuite()\n",
    "    result = unittest.TestResult() \n",
    "    suite.addTest(unittest.makeSuite(TestCompany1)) \n",
    "    suite.addTest(unittest.makeSuite(TestCompany2)) \n",
    "    suite.addTest(unittest.makeSuite(TestPrice)) \n",
    "    suite.addTest(unittest.makeSuite(TestProperty)) \n",
    "    runner = unittest.TextTestRunner() \n",
    "    print(runner.run(suite))\n",
    "my_suite()"
   ]
  },
  {
   "cell_type": "code",
   "execution_count": null,
   "metadata": {},
   "outputs": [],
   "source": []
  }
 ],
 "metadata": {
  "kernelspec": {
   "display_name": "Python 3",
   "language": "python",
   "name": "python3"
  },
  "language_info": {
   "codemirror_mode": {
    "name": "ipython",
    "version": 3
   },
   "file_extension": ".py",
   "mimetype": "text/x-python",
   "name": "python",
   "nbconvert_exporter": "python",
   "pygments_lexer": "ipython3",
   "version": "3.7.3"
  }
 },
 "nbformat": 4,
 "nbformat_minor": 2
}
