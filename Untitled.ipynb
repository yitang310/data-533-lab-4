{
 "cells": [
  {
   "cell_type": "code",
   "execution_count": 7,
   "metadata": {},
   "outputs": [],
   "source": [
    "import unittest\n",
    "from product.company.value_profit import *\n",
    "class TestCompany2(unittest.TestCase):\n",
    "    @classmethod\n",
    "    def setUpClass(cls):\n",
    "        print(\"setUpClass\")\n",
    "    def setUp(self):\n",
    "        print(\"setUp\")\n",
    "        \n",
    "    def teststr(self):\n",
    "        self.assertNotIsInstance(value_percentage(100000,10000),str)\n",
    "        self.assertNotIsInstance(sales_percentage(200000,10000),str)\n",
    "        self.assertIsInstance(tendency(500,600),str)\n",
    "        self.assertIs(type(float(value_percentage(1000,10000).strip(\"%\"))),float)\n",
    "        self.assertIsNot(type(float(sales_percentage(1000,10000).strip(\"%\"))),int)\n",
    "        \n",
    "    def testnumber(self):\n",
    "        self.assertTrue(float(value_percentage(1000,10000).strip(\"%\"))==1000/10000*100)\n",
    "        self.assertTrue(float(sales_percentage(1000,10000).strip(\"%\"))==1000/10000*100)\n",
    "        self.assertTrue(float(tendency(500,600).strip(\"%\"))==500/600*100)\n",
    "        self.assertFalse(float(value_percentage(1234,10000).strip(\"%\"))==1000/10000*100)\n",
    "        self.assertFalse(float(sales_percentage(1234,10000).strip(\"%\"))==1000/10000*100)\n",
    "    \n",
    "    def tearDown(self):\n",
    "        print(\"tearDown\")\n",
    "    @classmethod\n",
    "    def tearDownClass(cls):\n",
    "        print(\"tearDownClass\")"
   ]
  },
  {
   "cell_type": "code",
   "execution_count": 8,
   "metadata": {},
   "outputs": [
    {
     "name": "stderr",
     "output_type": "stream",
     "text": [
      "testnumber (__main__.TestCompany2) ... ok\n",
      "teststr (__main__.TestCompany2) ... "
     ]
    },
    {
     "name": "stdout",
     "output_type": "stream",
     "text": [
      "setUpClass\n",
      "setUp\n",
      "tearDown\n",
      "setUp\n",
      "Brand Value 100000 should not larger than Company Value 10000.\n",
      "Brand Sales 200000 should not larger than Company Sales 10000.\n",
      "tearDown\n",
      "tearDownClass\n"
     ]
    },
    {
     "name": "stderr",
     "output_type": "stream",
     "text": [
      "ok\n",
      "\n",
      "----------------------------------------------------------------------\n",
      "Ran 2 tests in 0.002s\n",
      "\n",
      "OK\n"
     ]
    },
    {
     "data": {
      "text/plain": [
       "<unittest.main.TestProgram at 0x110b722e8>"
      ]
     },
     "execution_count": 8,
     "metadata": {},
     "output_type": "execute_result"
    }
   ],
   "source": [
    "unittest.main(argv=[''], verbosity=2, exit=False)"
   ]
  },
  {
   "cell_type": "code",
   "execution_count": null,
   "metadata": {},
   "outputs": [],
   "source": []
  }
 ],
 "metadata": {
  "kernelspec": {
   "display_name": "Python 3",
   "language": "python",
   "name": "python3"
  },
  "language_info": {
   "codemirror_mode": {
    "name": "ipython",
    "version": 3
   },
   "file_extension": ".py",
   "mimetype": "text/x-python",
   "name": "python",
   "nbconvert_exporter": "python",
   "pygments_lexer": "ipython3",
   "version": "3.7.3"
  }
 },
 "nbformat": 4,
 "nbformat_minor": 2
}
